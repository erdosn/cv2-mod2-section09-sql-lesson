{
 "cells": [
  {
   "cell_type": "markdown",
   "metadata": {},
   "source": [
    "### Questions"
   ]
  },
  {
   "cell_type": "markdown",
   "metadata": {},
   "source": [
    "### Outcomes\n",
    "YWBAT\n",
    "- perform a query that is ordered by a value\n",
    "- load query results as a dataframe\n",
    "- build functions to perform queries\n",
    "- execute a query using multiple joins"
   ]
  },
  {
   "cell_type": "markdown",
   "metadata": {},
   "source": [
    "### Outline\n",
    "* Take Questions\n",
    "* Warm Up\n",
    "* Connect to our sqlite db\n",
    "* Compare and contrast reading a query as a list vs reading a query as a dataframe\n",
    "* Practice various queries\n",
    "* Complete a Join Query\n",
    "* Complete a query using multiple Joins\n",
    "* wrap up"
   ]
  },
  {
   "cell_type": "markdown",
   "metadata": {},
   "source": [
    "### (5 min) Warm Up\n",
    "Given the following 'Employees' table, write a query that completes the following task.  Send your query to me in a private chat here in zoom.\n",
    "\n",
    "Expected Result:\n",
    "- IdNum, LName, FName and Salary\n",
    "- Order it by salary, starting with the highest salary\n",
    "![](images/table.png)\n",
    "\n",
    "<details>\n",
    "    <summary>Solution</summary>\n",
    "    \n",
    "    ```\n",
    "    SELECT IdNum, LName, FName, Salary\n",
    "    FROM Employees\n",
    "    ORDER BY Salary DESC\n",
    "    ```\n",
    "</details>"
   ]
  },
  {
   "cell_type": "code",
   "execution_count": null,
   "metadata": {},
   "outputs": [],
   "source": [
    "import pandas as pd\n",
    "import numpy as np\n",
    "\n",
    "import sqlite3\n",
    "\n",
    "import matplotlib.pyplot as plt"
   ]
  },
  {
   "cell_type": "markdown",
   "metadata": {},
   "source": [
    "### Connecting to our sqlite db using sqlite3"
   ]
  },
  {
   "cell_type": "code",
   "execution_count": null,
   "metadata": {},
   "outputs": [],
   "source": [
    "conn = sqlite3.connect('data.sqlite')\n",
    "cursor = conn.cursor()"
   ]
  },
  {
   "cell_type": "markdown",
   "metadata": {},
   "source": [
    "### Listing the tables in our db"
   ]
  },
  {
   "cell_type": "code",
   "execution_count": null,
   "metadata": {},
   "outputs": [],
   "source": [
    "# table_names to be a list of my table_names\n",
    "query = \"SELECT name FROM sqlite_master WHERE type='table';\"\n",
    "res = cursor.execute(query).fetchall()\n",
    "print(res) # Notice these are tuples, let's extract only the names in the next cell"
   ]
  },
  {
   "cell_type": "code",
   "execution_count": null,
   "metadata": {},
   "outputs": [],
   "source": [
    "table_names = [r[0] for r in res]\n",
    "table_names"
   ]
  },
  {
   "cell_type": "markdown",
   "metadata": {},
   "source": [
    "### Now  select everything from the employees table just to get a feel for it"
   ]
  },
  {
   "cell_type": "code",
   "execution_count": null,
   "metadata": {},
   "outputs": [],
   "source": [
    "query = 'select * from employees;'\n",
    "res = cursor.execute(query).fetchall()\n",
    "res[:2]"
   ]
  },
  {
   "cell_type": "markdown",
   "metadata": {},
   "source": [
    "### Now let's load this into a dataframe using the `.read_sql` method, we'll use some of the same components from above. "
   ]
  },
  {
   "cell_type": "code",
   "execution_count": null,
   "metadata": {},
   "outputs": [],
   "source": [
    "query = 'select * from employees;'\n",
    "df = pd.read_sql(query, conn)\n",
    "df.head() # Much better and more readable! "
   ]
  },
  {
   "cell_type": "markdown",
   "metadata": {},
   "source": [
    "### (3 min) What are the pros and cons of loading a sql query into a dataframe?\n",
    "- Pros\n",
    "    - \n",
    "\n",
    "- Cons\n",
    "    -  "
   ]
  },
  {
   "cell_type": "code",
   "execution_count": null,
   "metadata": {},
   "outputs": [],
   "source": [
    "def load_df(table_name=None, conn=None):\n",
    "    query = 'select * from {}'.format(table_name)\n",
    "    df = pd.read_sql(query, conn)\n",
    "    return df"
   ]
  },
  {
   "cell_type": "markdown",
   "metadata": {},
   "source": [
    "### A throwback favorite "
   ]
  },
  {
   "cell_type": "code",
   "execution_count": null,
   "metadata": {},
   "outputs": [],
   "source": [
    "d = {} # table_name: dataframe of table\n",
    "for table_name in table_names:\n",
    "    d[table_name] = load_df(table_name, conn)"
   ]
  },
  {
   "cell_type": "markdown",
   "metadata": {},
   "source": [
    "### WHY SHOULD YOU ALWAYS SPECIFY YOUR PRIMARY KEYS!?\n",
    "\n",
    "[Discussion here]"
   ]
  },
  {
   "cell_type": "markdown",
   "metadata": {},
   "source": [
    "### Query Exercise 1\n",
    "\n",
    "Create the following table using the customers table and the orders table\n",
    "\n",
    "<img src=\"images/query1.png\" width=\"500\"/>"
   ]
  },
  {
   "cell_type": "code",
   "execution_count": null,
   "metadata": {},
   "outputs": [],
   "source": [
    "# First look at the customers dataframe \n",
    "\n",
    "\n",
    "# Then look at the orders dataframe"
   ]
  },
  {
   "cell_type": "markdown",
   "metadata": {},
   "source": [
    "<details>\n",
    "    <summary>Query 1 - Solution</summary>\n",
    "    \n",
    "    ```\n",
    "        query = \"\"\"\n",
    "        SELECT c.customerName, c.phone, c.state, o.orderDate FROM\n",
    "        customers as c\n",
    "        JOIN orders as o using (customerNumber);\n",
    "        \"\"\"\n",
    "    ```\n",
    "</details>"
   ]
  },
  {
   "cell_type": "code",
   "execution_count": null,
   "metadata": {},
   "outputs": [],
   "source": [
    "query = \"\"\"SELECT\n",
    "        \"\"\""
   ]
  },
  {
   "cell_type": "code",
   "execution_count": null,
   "metadata": {},
   "outputs": [],
   "source": [
    "join_1 = pd.read_sql(query, conn)\n",
    "join_1.head()"
   ]
  },
  {
   "cell_type": "markdown",
   "metadata": {},
   "source": [
    "### Query Exercise 2\n",
    "\n",
    "Create a query that results in a table with the every customer number for an employee along with the employee name and number.\n",
    "\n",
    "Ex:\n",
    "\n",
    "<img src=\"images/query2.png\" width=\"500\"/>"
   ]
  },
  {
   "cell_type": "code",
   "execution_count": null,
   "metadata": {},
   "outputs": [],
   "source": [
    "# Work here"
   ]
  },
  {
   "cell_type": "code",
   "execution_count": null,
   "metadata": {},
   "outputs": [],
   "source": [
    "query = \"\"\"\n",
    "        SELECT\n",
    "        \"\"\"\n",
    "\n",
    "pd.read_sql(query, conn).head()"
   ]
  },
  {
   "cell_type": "markdown",
   "metadata": {},
   "source": [
    "<details>\n",
    "    <summary> Query 2 - Solution</summary>\n",
    "    \n",
    "    ```\n",
    "    query = \"\"\"\n",
    "        select e.firstname, e.lastname, e.employeenumber, c.customerNumber\n",
    "        from employees as e\n",
    "        join customers as c\n",
    "        on e.employeenumber = c.salesrepemployeenumber;\"\"\"\n",
    "    ```\n",
    "    \n",
    "</details>"
   ]
  },
  {
   "cell_type": "code",
   "execution_count": null,
   "metadata": {},
   "outputs": [],
   "source": [
    "# Now let's take this and incorporate the next table orders\n",
    "orders_df.head(1)"
   ]
  },
  {
   "cell_type": "markdown",
   "metadata": {},
   "source": [
    "### Query Exercise 3\n",
    "Create a query that results in a table with every order number for every customer number for an employee along with the employee name and number.\n",
    "\n",
    "Ex:\n",
    "\n",
    "<img src=\"images/query3.png\" width=\"500\"/>"
   ]
  },
  {
   "cell_type": "code",
   "execution_count": null,
   "metadata": {},
   "outputs": [],
   "source": [
    "# Work here"
   ]
  },
  {
   "cell_type": "code",
   "execution_count": null,
   "metadata": {},
   "outputs": [],
   "source": [
    "query = \"\"\"\n",
    "        SELECT\n",
    "        \"\"\"\n",
    "\n",
    "pd.read_sql(query, conn).head()"
   ]
  },
  {
   "cell_type": "markdown",
   "metadata": {},
   "source": [
    "<details>\n",
    "    <summary> Query 3 - Solution</summary>\n",
    "    \n",
    "    ```\n",
    "    query = \"\"\"\n",
    "        select e.firstname, e.lastname, e.employeenumber, c.customerNumber, o.orderNumber\n",
    "        from employees as e\n",
    "        join customers as c\n",
    "        on e.employeenumber = c.salesrepemployeenumber\n",
    "        join orders as o\n",
    "        on o.customerNumber = c.customerNumber;\"\"\"\n",
    "    ```\n",
    "    \n",
    "</details>"
   ]
  },
  {
   "cell_type": "markdown",
   "metadata": {},
   "source": [
    "# Query Exercise 4\n",
    "\n",
    "Write a query that results in the following:\n",
    "\n",
    "Employee First and Last Name, order number and each product code for that order. \n",
    "\n",
    "*There should be a row for each product code*\n",
    "\n",
    "Screenshot:\n",
    "\n",
    "<img src=\"images/query4.png\" width=\"500\"/>"
   ]
  },
  {
   "cell_type": "code",
   "execution_count": null,
   "metadata": {},
   "outputs": [],
   "source": [
    "# work here\n",
    "query = \"\"\"\n",
    "        select\n",
    "        \"\"\"\n",
    "\n",
    "pd.read_sql(query, conn).head(2)"
   ]
  },
  {
   "cell_type": "markdown",
   "metadata": {},
   "source": [
    "<details>\n",
    "    <summary>Query 4 Solution</summary>\n",
    "    \n",
    "    ```\n",
    "    query = \"\"\"\n",
    "        select e.firstname, e.lastname, o.orderNumber, od.productCode\n",
    "        from employees as e\n",
    "        join customers as c\n",
    "        on e.employeenumber = c.salesrepemployeenumber\n",
    "        join orders as o\n",
    "        on o.customerNumber = c.customerNumber\n",
    "        join orderdetails as od\n",
    "        on od.orderNumber = o.orderNumber;\"\"\"\n",
    "        ```\n",
    "        \n",
    "</details>"
   ]
  },
  {
   "cell_type": "markdown",
   "metadata": {},
   "source": [
    "# Query Exercise 5\n",
    "\n",
    "Write a query that results in the following:\n",
    "\n",
    "Employee First and Last Name and each product name they sold, add an alias to match the image below\n",
    "\n",
    "*There should be a row for each product name*\n",
    "\n",
    "Screenshot:\n",
    "\n",
    "<img src=\"images/query5.png\" width=\"500\"/>"
   ]
  },
  {
   "cell_type": "code",
   "execution_count": null,
   "metadata": {},
   "outputs": [],
   "source": [
    "# work here\n",
    "query = \"\"\"\n",
    "        select\n",
    "        \"\"\"\n",
    "\n",
    "pd.read_sql(query, conn).head(2)"
   ]
  },
  {
   "cell_type": "markdown",
   "metadata": {},
   "source": [
    "<details>\n",
    "    <summary>Query 5 Solution</summary>\n",
    "    \n",
    "    ```\n",
    "    query = \"\"\"\n",
    "        select e.firstname, e.lastname, p.productName\n",
    "        from employees as e\n",
    "        join customers as c\n",
    "        on e.employeenumber = c.salesrepemployeenumber\n",
    "        join orders as o\n",
    "        on o.customerNumber = c.customerNumber\n",
    "        join orderdetails as od\n",
    "        on od.orderNumber = o.orderNumber\n",
    "        join products as p\n",
    "        on p.productCode = od.productCode;\"\"\"\n",
    "        ```\n",
    "        \n",
    "</details>"
   ]
  },
  {
   "cell_type": "markdown",
   "metadata": {},
   "source": [
    "### Great! It's working. Let's add some group by to remove duplicates!\n",
    "\n",
    "**Add aliases to result in the following**\n",
    "\n",
    "<img src=\"images/query5.png\" width=\"500\"/>"
   ]
  },
  {
   "cell_type": "code",
   "execution_count": null,
   "metadata": {},
   "outputs": [],
   "source": [
    "# remember the alias' from above\n",
    "\n",
    "query = '''SELECT ...'''\n",
    "\n",
    "final_df = pd.read_sql(query, conn)\n",
    "final_df.head(2)"
   ]
  },
  {
   "cell_type": "markdown",
   "metadata": {},
   "source": [
    "<details>\n",
    "<summary>Final Query Solution</summary>\n",
    "\n",
    "```\n",
    "query = \"\"\"\n",
    "        select e.firstname as fn, e.lastname as ln, p.productName as pn\n",
    "        from employees as e\n",
    "        join customers as c\n",
    "        on e.employeenumber = c.salesrepemployeenumber\n",
    "        join orders as o\n",
    "        on o.customerNumber = c.customerNumber\n",
    "        join orderdetails as od\n",
    "        on od.orderNumber = o.orderNumber\n",
    "        join products as p\n",
    "        on p.productCode = od.productCode\n",
    "        group by fn, ln, pn;\"\"\"\n",
    "\n",
    "```\n",
    "\n",
    "</details>"
   ]
  }
 ],
 "metadata": {
  "kernelspec": {
   "display_name": "Python 3",
   "language": "python",
   "name": "python3"
  },
  "language_info": {
   "codemirror_mode": {
    "name": "ipython",
    "version": 3
   },
   "file_extension": ".py",
   "mimetype": "text/x-python",
   "name": "python",
   "nbconvert_exporter": "python",
   "pygments_lexer": "ipython3",
   "version": "3.7.2"
  }
 },
 "nbformat": 4,
 "nbformat_minor": 2
}
